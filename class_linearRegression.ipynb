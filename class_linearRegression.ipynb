{
  "nbformat": 4,
  "nbformat_minor": 0,
  "metadata": {
    "colab": {
      "provenance": [],
      "authorship_tag": "ABX9TyOfdx2tNy2FZ3yy9hMAkl9c",
      "include_colab_link": true
    },
    "kernelspec": {
      "name": "python3",
      "display_name": "Python 3"
    },
    "language_info": {
      "name": "python"
    }
  },
  "cells": [
    {
      "cell_type": "markdown",
      "metadata": {
        "id": "view-in-github",
        "colab_type": "text"
      },
      "source": [
        "<a href=\"https://colab.research.google.com/github/sslinNn/24.01/blob/main/class_linearRegression.ipynb\" target=\"_parent\"><img src=\"https://colab.research.google.com/assets/colab-badge.svg\" alt=\"Open In Colab\"/></a>"
      ]
    },
    {
      "cell_type": "code",
      "execution_count": 20,
      "metadata": {
        "id": "ytr3gSfrF3CW"
      },
      "outputs": [],
      "source": [
        "class LinearRegression:\n",
        "    def __init__(self):\n",
        "        self.a = None\n",
        "        self.b = None\n",
        "\n",
        "    def fit(self, x, y):\n",
        "        n = len(x)\n",
        "        x_sr = sum(x) / n  # среднее значение x\n",
        "        y_sr = sum(y) / n  # среднее значение y\n",
        "        xy_sr = sum([x[i]*y[i] for i in range(n)]) / n  # среднее значение произведения x и y\n",
        "        x_sqr_sr = sum([x[i]**2 for i in range(n)]) / n  # среднее значение x^2\n",
        "\n",
        "        # расчет параметров линейной регрессии\n",
        "        self.a = (xy_sr - x_sr * y_sr) / (x_sqr_sr - x_sr**2)\n",
        "        self.b = y_sr - self.a * x_sr\n",
        "        \n",
        "    def predict(self, x):\n",
        "        return [self.a * xi + self.b for xi in x]\n",
        "\n",
        "    def score(self, x, y):\n",
        "        y_pred = self.predict(x)\n",
        "        y_sr = sum(y) / len(y)\n",
        "        sst = sum([(yi - y_sr)**2 for yi in y])\n",
        "        ssr = sum([(yi - y_pred[i])**2 for i, yi in enumerate(y)])\n",
        "        return 1 - ssr/sst\n",
        "\n"
      ]
    },
    {
      "cell_type": "code",
      "source": [
        "model = LinearRegression()\n",
        "x = [1, 2, 3, 4, 5]\n",
        "y = [2, 4, 5, 4, 5]\n",
        "model.fit(x, y)\n",
        "print(\"Параметры линейной регрессии a =\", model.a, \", b =\", model.b)\n",
        "print(\"Прогнозы для новых значений x:\", model.predict([6, 7, 8]))\n",
        "print(\"Коэффициент детерминации (R-квадрат): \", model.score(x, y))"
      ],
      "metadata": {
        "colab": {
          "base_uri": "https://localhost:8080/"
        },
        "id": "G1jH2Tu1JWUx",
        "outputId": "ca744020-45d0-4f6b-88a2-8af51e00e5fc"
      },
      "execution_count": 21,
      "outputs": [
        {
          "output_type": "stream",
          "name": "stdout",
          "text": [
            "Параметры линейной регрессии a = 0.5999999999999996 , b = 2.200000000000001\n",
            "Прогнозы для новых значений x: [5.799999999999999, 6.399999999999999, 6.999999999999998]\n",
            "Коэффициент детерминации (R-квадрат):  0.6000000000000001\n"
          ]
        }
      ]
    }
  ]
}