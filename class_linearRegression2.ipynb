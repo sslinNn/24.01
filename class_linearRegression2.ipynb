{
  "nbformat": 4,
  "nbformat_minor": 0,
  "metadata": {
    "colab": {
      "provenance": [],
      "authorship_tag": "ABX9TyM4Bn5U7alI/whebaEov6xp",
      "include_colab_link": true
    },
    "kernelspec": {
      "name": "python3",
      "display_name": "Python 3"
    },
    "language_info": {
      "name": "python"
    }
  },
  "cells": [
    {
      "cell_type": "markdown",
      "metadata": {
        "id": "view-in-github",
        "colab_type": "text"
      },
      "source": [
        "<a href=\"https://colab.research.google.com/github/sslinNn/24.01/blob/main/class_linearRegression2.ipynb\" target=\"_parent\"><img src=\"https://colab.research.google.com/assets/colab-badge.svg\" alt=\"Open In Colab\"/></a>"
      ]
    },
    {
      "cell_type": "code",
      "source": [
        "import pandas as pd\n",
        "import numpy as np\n",
        "from sklearn.linear_model import LinearRegression"
      ],
      "metadata": {
        "id": "7XI0rGFTBrXi"
      },
      "execution_count": 33,
      "outputs": []
    },
    {
      "cell_type": "code",
      "source": [
        "X = np.array([1, 5, 12, 8])\n",
        "# y = 1 * x_0 + 2 * x_1 + 3\n",
        "y = np.array([6, 38, 51, 39])"
      ],
      "metadata": {
        "id": "-0GeEn5sBuFI"
      },
      "execution_count": 54,
      "outputs": []
    },
    {
      "cell_type": "code",
      "execution_count": 35,
      "metadata": {
        "id": "ytr3gSfrF3CW"
      },
      "outputs": [],
      "source": [
        "class LinearRegression1:\n",
        "    def __init__(self):\n",
        "        self.a = None\n",
        "        self.b = None\n",
        "\n",
        "    def fit(self, x, y):\n",
        "        n = len(x)\n",
        "        x_sr = sum(x) / n  # среднее значение x\n",
        "        y_sr = sum(y) / n  # среднее значение y\n",
        "        xy_sr = sum([x[i]*y[i] for i in range(n)]) / n  # среднее значение произведения x и y\n",
        "        x_sqr_sr = sum([x[i]**2 for i in range(n)]) / n  # среднее значение x^2\n",
        "\n",
        "        # расчет параметров линейной регрессии\n",
        "        self.a = (xy_sr - x_sr * y_sr) / (x_sqr_sr - x_sr**2)\n",
        "        self.b = y_sr - self.a * x_sr\n",
        "        \n",
        "    def predict(self, x):\n",
        "        return [self.a * xi + self.b for xi in x]\n",
        "\n",
        "    def score(self, x, y):\n",
        "        y_pred = self.predict(x)\n",
        "        y_sr = sum(y) / len(y)\n",
        "        sst = sum([(yi - y_sr)**2 for yi in y])\n",
        "        ssr = sum([(yi - y_pred[i])**2 for i, yi in enumerate(y)])\n",
        "        return 1 - ssr/sst\n",
        "    \n",
        "    def mlr(self, x, y):\n",
        "        pass\n",
        "\n"
      ]
    },
    {
      "cell_type": "code",
      "source": [
        "model1 = LinearRegression1()\n",
        "model1.fit(X, y)\n",
        "print(\"Параметры линейной регрессии a =\", model1.a, \", b =\", model1.b)\n",
        "print(\"Прогнозы для новых значений x:\", model1.predict([6, 7, 8]))\n",
        "print(\"Коэффициент детерминации (R-квадрат): \", model1.score(X, y))\n"
      ],
      "metadata": {
        "colab": {
          "base_uri": "https://localhost:8080/"
        },
        "id": "G1jH2Tu1JWUx",
        "outputId": "d13b3dd8-16d6-459f-f73a-4a841b7e7289"
      },
      "execution_count": 59,
      "outputs": [
        {
          "output_type": "stream",
          "name": "stdout",
          "text": [
            "Параметры линейной регрессии a = 3.830769230769231 , b = 8.599999999999998\n",
            "Прогнозы для новых значений x: [31.584615384615383, 35.41538461538461, 39.246153846153845]\n",
            "Коэффициент детерминации (R-квадрат):  0.8570184532448684\n"
          ]
        }
      ]
    },
    {
      "cell_type": "code",
      "source": [
        "model = LinearRegression()\n",
        "model.fit(X.reshape(-1, 1), y.reshape(-1, 1))\n",
        "print(\"Параметры линейной регрессии a =\", model.coef_, \", b =\", model.intercept_)\n",
        "# print(\"Прогнозы для новых значений x:\", model.predict(np.array([1, 5, 12, 8].reshape(-1, 1))))"
      ],
      "metadata": {
        "id": "Ks7h9c9PESKp",
        "outputId": "4e86b9a9-0935-45d4-e2c7-831fdd7f201d",
        "colab": {
          "base_uri": "https://localhost:8080/"
        }
      },
      "execution_count": 58,
      "outputs": [
        {
          "output_type": "stream",
          "name": "stdout",
          "text": [
            "Параметры линейной регрессии a = [[3.83076923]] , b = [8.6]\n"
          ]
        }
      ]
    }
  ]
}